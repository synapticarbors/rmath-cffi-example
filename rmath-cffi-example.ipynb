{
 "cells": [
  {
   "cell_type": "markdown",
   "metadata": {},
   "source": [
    "Since we are going to use what cffi calls the \"API-level, out-of-line\", we need to define a build script (`build_rmath.py`) that we will use to compile the Rmath source and produce an importable extension module. The notebook \"cell magic\", `%%file` will write the contents of the below cell to a file."
   ]
  },
  {
   "cell_type": "code",
   "execution_count": 19,
   "metadata": {
    "collapsed": false
   },
   "outputs": [
    {
     "name": "stdout",
     "output_type": "stream",
     "text": [
      "Overwriting build_rmath.py\n"
     ]
    }
   ],
   "source": [
    "%%file build_rmath.py\n",
    "\n",
    "import glob\n",
    "import os\n",
    "import platform\n",
    "\n",
    "from cffi import FFI\n",
    "\n",
    "\n",
    "include_dirs = [os.path.join('externals', 'Rmath-julia', 'src'),\n",
    "                os.path.join('externals', 'Rmath-julia', 'include')]\n",
    "\n",
    "rmath_src = glob.glob(os.path.join('externals', 'Rmath-julia', 'src', '*.c'))\n",
    "\n",
    "# Take out dSFMT dependant files; Just use the basic rng\n",
    "rmath_src = [f for f in rmath_src if ('librandom.c' not in f) and ('randmtzig.c' not in f)]\n",
    "\n",
    "extra_compile_args = ['-DMATHLIB_STANDALONE']\n",
    "if platform.system() == 'Windows':\n",
    "    extra_compile_args.append('-std=c99')\n",
    "\n",
    "ffi = FFI()\n",
    "ffi.set_source('_rmath_ffi', '#include <Rmath.h>',\n",
    "        include_dirs=include_dirs,\n",
    "        sources=rmath_src,\n",
    "        libraries=[],\n",
    "        extra_compile_args=extra_compile_args)\n",
    "\n",
    "# This is an incomplete list of the available functions in Rmath\n",
    "# but these are sufficient for our example purposes\n",
    "ffi.cdef('''\\\n",
    "double pnorm(double, double, double, int, int);\n",
    "double qnorm(double, double, double, int, int);\n",
    "double runif(double, double);\n",
    "void set_seed(unsigned int, unsigned int);\n",
    "void get_seed(unsigned int *, unsigned int *);\n",
    "''')\n",
    "\n",
    "if __name__ == '__main__':\n",
    "    # Normally set verbose to `True`, but silence output\n",
    "    # for reduced notebook noise\n",
    "    ffi.compile(verbose=False)"
   ]
  },
  {
   "cell_type": "markdown",
   "metadata": {},
   "source": [
    "Then we simply run the script as below assuming we have a properly configured C compiler on our system. For larger projects [integration with setuptools is supported](http://cffi.readthedocs.org/en/release-1.5/cdef.html#preparing-and-distributing-modules). The exclamation point tells the notebook to execute the following command in a system shell."
   ]
  },
  {
   "cell_type": "code",
   "execution_count": 20,
   "metadata": {
    "collapsed": false
   },
   "outputs": [],
   "source": [
    "!python build_rmath.py"
   ]
  },
  {
   "cell_type": "markdown",
   "metadata": {},
   "source": [
    "We should now have an extension module named `_rmath_ffi` that gives us access to the functions whose prototypes we enumerated in the `ffi.cdef(...)`."
   ]
  },
  {
   "cell_type": "code",
   "execution_count": 10,
   "metadata": {
    "collapsed": false
   },
   "outputs": [],
   "source": [
    "import _rmath_ffi"
   ]
  },
  {
   "cell_type": "code",
   "execution_count": null,
   "metadata": {
    "collapsed": true
   },
   "outputs": [],
   "source": []
  }
 ],
 "metadata": {
  "kernelspec": {
   "display_name": "Python 2",
   "language": "python",
   "name": "python2"
  },
  "language_info": {
   "codemirror_mode": {
    "name": "ipython",
    "version": 2
   },
   "file_extension": ".py",
   "mimetype": "text/x-python",
   "name": "python",
   "nbconvert_exporter": "python",
   "pygments_lexer": "ipython2",
   "version": "2.7.11"
  }
 },
 "nbformat": 4,
 "nbformat_minor": 0
}
